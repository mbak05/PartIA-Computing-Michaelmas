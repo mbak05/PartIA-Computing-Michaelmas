{
 "cells": [
  {
   "cell_type": "markdown",
   "metadata": {},
   "source": [
    "## Exercise 01.1\n",
    "\n",
    "Degrees Fahrenheit ($T_F$) are converted to degrees Celsius ($T_c$) using the formula:\n",
    "\n",
    "$$\n",
    "T_c = 5(T_f - 32)/9\n",
    "$$\n",
    "\n",
    "Write a program to convert 78 degrees Fahrenheit to degrees Celsius and print the result.\n",
    "Write your program such that you can easily change the temperature in Fahrenheit that you are converting from.\n",
    "\n",
    "Use the variable name `T_c` for the temperature in degrees Celsius."
   ]
  },
  {
   "cell_type": "code",
   "execution_count": 8,
   "metadata": {
    "deletable": false,
    "nbgrader": {
     "cell_type": "code",
     "checksum": "9aad06999d15d78fbcee70dcbca838c7",
     "grade": false,
     "grade_id": "cell-ca2d6af7fabf2918",
     "locked": false,
     "schema_version": 3,
     "solution": true
    }
   },
   "outputs": [
    {
     "name": "stdout",
     "output_type": "stream",
     "text": [
      "25.555555555555557\n"
     ]
    }
   ],
   "source": [
    "T_f = 78\n",
    "T_c = 5*(T_f-32)/9\n",
    "print(T_c)"
   ]
  },
  {
   "cell_type": "code",
   "execution_count": null,
   "metadata": {
    "deletable": false,
    "editable": false,
    "nbgrader": {
     "cell_type": "code",
     "checksum": "298ddee2ca0d1dd09bc995505dac5c63",
     "grade": true,
     "grade_id": "cell-a7542313c8cdf4ed",
     "locked": true,
     "points": 0,
     "schema_version": 3,
     "solution": false
    }
   },
   "outputs": [],
   "source": [
    "assert round(T_c - 25.55555555555555, 10) == 0.0"
   ]
  },
  {
   "cell_type": "markdown",
   "metadata": {},
   "source": [
    "## Exercise 01.2\n",
    "\n",
    "You have been tasked with developing a mortgage affordability test tool. A component is to compute the monthly \n",
    "interest payments for a range of scenarios.\n",
    "\n",
    "Interest on a particular mortgage is charged at fixed rate above the Bank of England (BoE) 'official Bank Rate'. \n",
    "Interest is computed per annum, and interest payments spread equally over each month of the year.\n",
    "Write a program that computes the interest payable each month, with variables for:\n",
    "\n",
    "1. Loan principal (amount borrowed)\n",
    "1. Official Bank Rate (percentage, expressed per annum)\n",
    "1. Rate over the official Bank Rate (percentage, expressed per annum)\n",
    "\n",
    "Test your program with a loan principal of £150,000, BoE rate of 0.5%, and rate over the \n",
    "BoE rate of 1.49%. Use the variable name `interest` for the monthly interest amount."
   ]
  },
  {
   "cell_type": "code",
   "execution_count": 9,
   "metadata": {
    "deletable": false,
    "nbgrader": {
     "cell_type": "code",
     "checksum": "c26b7adb39cb9665b26873573b1f0a6c",
     "grade": false,
     "grade_id": "cell-aaab53918bb9627d",
     "locked": false,
     "schema_version": 3,
     "solution": true
    }
   },
   "outputs": [
    {
     "name": "stdout",
     "output_type": "stream",
     "text": [
      "248.75\n"
     ]
    },
    {
     "ename": "NotImplementedError",
     "evalue": "",
     "output_type": "error",
     "traceback": [
      "\u001b[1;31m---------------------------------------------------------------------------\u001b[0m",
      "\u001b[1;31mNotImplementedError\u001b[0m                       Traceback (most recent call last)",
      "\u001b[1;32mc:\\Users\\maxab\\PartIA-Computing-Michaelmas\\Exercises\\01 Exercises.ipynb Cell 5\u001b[0m in \u001b[0;36m<cell line: 8>\u001b[1;34m()\u001b[0m\n\u001b[0;32m      <a href='vscode-notebook-cell:/c%3A/Users/maxab/PartIA-Computing-Michaelmas/Exercises/01%20Exercises.ipynb#ch0000004?line=5'>6</a>\u001b[0m interest \u001b[39m=\u001b[39m interest_year \u001b[39m/\u001b[39m \u001b[39m12\u001b[39m \n\u001b[0;32m      <a href='vscode-notebook-cell:/c%3A/Users/maxab/PartIA-Computing-Michaelmas/Exercises/01%20Exercises.ipynb#ch0000004?line=6'>7</a>\u001b[0m \u001b[39mprint\u001b[39m(interest)\n\u001b[1;32m----> <a href='vscode-notebook-cell:/c%3A/Users/maxab/PartIA-Computing-Michaelmas/Exercises/01%20Exercises.ipynb#ch0000004?line=7'>8</a>\u001b[0m \u001b[39mraise\u001b[39;00m \u001b[39mNotImplementedError\u001b[39;00m()\n",
      "\u001b[1;31mNotImplementedError\u001b[0m: "
     ]
    }
   ],
   "source": [
    "boe_rate = 0.5e-2\n",
    "Over_rate = 1.49e-2\n",
    "principal = 150000\n",
    "\n",
    "interest_year = principal*(boe_rate + Over_rate)\n",
    "interest = interest_year / 12 \n",
    "print(interest)\n",
    "raise NotImplementedError()"
   ]
  },
  {
   "cell_type": "code",
   "execution_count": null,
   "metadata": {
    "deletable": false,
    "editable": false,
    "nbgrader": {
     "cell_type": "code",
     "checksum": "d01c1d6775e975163ba8b456945ee4bc",
     "grade": true,
     "grade_id": "cell-258e3a2c80f6a765",
     "locked": true,
     "points": 0,
     "schema_version": 3,
     "solution": false
    }
   },
   "outputs": [],
   "source": [
    "assert round(interest - 248.75, 10) == 0.0"
   ]
  }
 ],
 "metadata": {
  "kernelspec": {
   "display_name": "Python 3.9.12 ('IA-mich')",
   "language": "python",
   "name": "python3"
  },
  "language_info": {
   "codemirror_mode": {
    "name": "ipython",
    "version": 3
   },
   "file_extension": ".py",
   "mimetype": "text/x-python",
   "name": "python",
   "nbconvert_exporter": "python",
   "pygments_lexer": "ipython3",
   "version": "3.9.12"
  },
  "vscode": {
   "interpreter": {
    "hash": "683dfc3a7861fe4e99384bd2289c4f961ddf182f3a6be0aa1c496e594572dcb7"
   }
  }
 },
 "nbformat": 4,
 "nbformat_minor": 4
}
